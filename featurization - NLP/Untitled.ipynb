{
 "cells": [
  {
   "cell_type": "markdown",
   "id": "d982a7f2",
   "metadata": {},
   "source": [
    "Sure, I'll help you define functions for cross-validation and training using Naive Bayes, and then show how to display the results. We'll use the `MultinomialNB` classifier from `sklearn.naive_bayes` for this example.\n",
    "\n",
    "### Step-by-Step Plan\n",
    "\n",
    "1. **Define a function for cross-validation**: This function will perform cross-validation on the training data and return the best hyperparameters.\n",
    "2. **Define a function for training and evaluating the model**: This function will train the model on the training data and evaluate it on the test data.\n",
    "3. **Display the results**: Print the accuracy and classification report.\n",
    "\n",
    "### 1. Define Cross-Validation Function\n",
    "\n"
   ]
  },
  {
   "cell_type": "markdown",
   "id": "ad20b221",
   "metadata": {},
   "source": []
  },
  {
   "cell_type": "markdown",
   "id": "b1dd7140",
   "metadata": {},
   "source": []
  },
  {
   "cell_type": "markdown",
   "id": "c5bc2e9d",
   "metadata": {},
   "source": [
    "Certainly! Let's define functions for cross-validation and training using Support Vector Machines (SVM), and then show how to display the results. We'll use the `SVC` classifier from `sklearn.svm` for this example.\n",
    "\n",
    "### Step-by-Step Plan\n",
    "\n",
    "1. **Define a function for cross-validation**: This function will perform cross-validation on the training data and return the best hyperparameters.\n",
    "2. **Define a function for training and evaluating the model**: This function will train the model on the training data and evaluate it on the test data.\n",
    "3. **Display the results**: Print the accuracy and classification report.\n",
    "\n",
    "### 1. Define Cross-Validation Function\n",
    "\n"
   ]
  },
  {
   "cell_type": "code",
   "execution_count": null,
   "id": "398cece7",
   "metadata": {},
   "outputs": [],
   "source": [
    "from sklearn.svm import SVC\n",
    "from sklearn.model_selection import GridSearchCV\n",
    "from tqdm import tqdm\n",
    "\n",
    "def perform_grid_search_cv_svm(X_train, y_train):\n",
    "    \"\"\"\n",
    "    Perform Grid Search Cross-Validation to find the optimal hyperparameters for SVM.\n",
    "    \"\"\"\n",
    "    param_grid = {'C': [0.1, 1, 10, 100, 1000], 'kernel': ['linear', 'rbf']}\n",
    "    grid_search = GridSearchCV(estimator=SVC(), param_grid=param_grid, \n",
    "                               cv=5, n_jobs=-1, verbose=3, scoring='accuracy')\n",
    "    grid_search.fit(X_train, y_train)\n",
    "    best_params = grid_search.best_params_\n",
    "    cv_scores = grid_search.cv_results_['mean_test_score']\n",
    "    return best_params, cv_scores"
   ]
  },
  {
   "cell_type": "markdown",
   "id": "09a08e85",
   "metadata": {},
   "source": [
    "\n",
    "\n",
    "### 2. Define Training and Evaluation Function\n",
    "\n"
   ]
  },
  {
   "cell_type": "code",
   "execution_count": null,
   "id": "93d6fa26",
   "metadata": {},
   "outputs": [],
   "source": [
    "from sklearn.metrics import accuracy_score, classification_report, confusion_matrix\n",
    "import seaborn as sns\n",
    "import matplotlib.pyplot as plt\n",
    "import numpy as np\n",
    "import pandas as pd\n",
    "\n",
    "def evaluate_svm(X_train, y_train, X_test, y_test, params, vectorizer_type):\n",
    "    \"\"\"\n",
    "    Train and evaluate an SVM classifier, and plot the confusion matrix.\n",
    "    \"\"\"\n",
    "    print(f\"Training SVM model with parameters: {params}\")\n",
    "    svm_classifier = SVC(C=params['C'], kernel=params['kernel'])\n",
    "    svm_classifier.fit(X_train, y_train)\n",
    "    print(\"Training completed. Evaluating the model...\")\n",
    "    y_pred = svm_classifier.predict(X_test)\n",
    "    accuracy = accuracy_score(y_test, y_pred)\n",
    "    cm = confusion_matrix(y_test, y_pred)\n",
    "    class_labels = np.unique(y_test)\n",
    "    df_cm = pd.DataFrame(cm, index=class_labels, columns=class_labels)\n",
    "    sns.heatmap(df_cm, annot=True, fmt=\"d\")\n",
    "    plt.title(f\"Confusion Matrix - {vectorizer_type}\")\n",
    "    plt.xlabel(\"Predicted Label\")\n",
    "    plt.ylabel(\"True Label\")\n",
    "    plt.show()\n",
    "    report = classification_report(y_test, y_pred, output_dict=True)\n",
    "    return accuracy, report"
   ]
  },
  {
   "cell_type": "markdown",
   "id": "1588da52",
   "metadata": {},
   "source": [
    "\n",
    "\n",
    "### 3. Display Results\n",
    "\n",
    "#### Cell 1: Perform Grid Search Cross-Validation and Plot CV Error\n",
    "\n"
   ]
  },
  {
   "cell_type": "code",
   "execution_count": null,
   "id": "40054b0f",
   "metadata": {},
   "outputs": [],
   "source": [
    "# Perform Grid Search CV for BoW\n",
    "best_params_bow, cv_scores_bow = perform_grid_search_cv_svm(X_train_bow, y_train)\n",
    "print('Optimal Parameters for SVM (BoW) are:', best_params_bow)\n",
    "\n",
    "# Define the hyperparameter values used in the grid search\n",
    "params = [(C, kernel) for C in [0.1, 1, 10, 100, 1000] for kernel in ['linear', 'rbf']]\n",
    "plot_cv_error(cv_scores_bow, params)"
   ]
  },
  {
   "cell_type": "markdown",
   "id": "f0130066",
   "metadata": {},
   "source": [
    "\n",
    "\n",
    "#### Cell 2: Train and Evaluate SVM Model\n",
    "\n"
   ]
  },
  {
   "cell_type": "code",
   "execution_count": null,
   "id": "e9a69bcf",
   "metadata": {},
   "outputs": [],
   "source": [
    "# Evaluate SVM for BoW\n",
    "print(\"Training and evaluating SVM model for BoW...\")\n",
    "accuracy_bow, report_bow = evaluate_svm(X_train_bow, y_train, X_test_bow, y_test, best_params_bow, 'Bag_of_Words')\n",
    "print(f'Accuracy (BoW): {accuracy_bow}')\n",
    "print(f'Classification Report (BoW):\\n', report_bow)"
   ]
  },
  {
   "cell_type": "markdown",
   "id": "2fad2df6",
   "metadata": {},
   "source": [
    "\n",
    "\n",
    "### Helper Function to Plot CV Error\n",
    "\n"
   ]
  },
  {
   "cell_type": "code",
   "execution_count": null,
   "id": "9e3ad712",
   "metadata": {},
   "outputs": [],
   "source": [
    "def plot_cv_error(cv_scores, params):\n",
    "    \"\"\"\n",
    "    Plot the Cross-Validation error for different hyperparameter values.\n",
    "    \"\"\"\n",
    "    mse = [1 - x for x in cv_scores]\n",
    "    plt.figure(figsize=(8, 8))\n",
    "    plt.plot(range(len(params)), mse, linestyle='dashed', marker='o', markerfacecolor='red', markersize=10)\n",
    "    for i, (param, score) in enumerate(zip(params, mse)):\n",
    "        plt.annotate(f'({param}, {score:.3f})', (i, score), textcoords='data')\n",
    "    plt.title('CV Error vs Hyperparameter Values')\n",
    "    plt.xlabel('Hyperparameter Index')\n",
    "    plt.ylabel('CV Error')\n",
    "    plt.show()"
   ]
  },
  {
   "cell_type": "markdown",
   "id": "c9de9d35",
   "metadata": {},
   "source": [
    "\n",
    "\n",
    "### Explanation\n",
    "\n",
    "1. **Cross-Validation Function**: `perform_grid_search_cv_svm` performs grid search cross-validation to find the best `C` and `kernel` parameters for the SVM model.\n",
    "2. **Training and Evaluation Function**: `evaluate_svm` trains the SVM model with the best parameters and evaluates it on the test data, displaying a confusion matrix and classification report.\n",
    "3. **Display Results**: The cells perform cross-validation, plot the CV error, train the model, and display the evaluation results.\n",
    "\n",
    "This setup will help you train and evaluate an SVM model on your dataset, showing progress and results."
   ]
  }
 ],
 "metadata": {
  "kernelspec": {
   "display_name": "Python 3 (ipykernel)",
   "language": "python",
   "name": "python3"
  },
  "language_info": {
   "codemirror_mode": {
    "name": "ipython",
    "version": 3
   },
   "file_extension": ".py",
   "mimetype": "text/x-python",
   "name": "python",
   "nbconvert_exporter": "python",
   "pygments_lexer": "ipython3",
   "version": "3.9.7"
  }
 },
 "nbformat": 4,
 "nbformat_minor": 5
}
