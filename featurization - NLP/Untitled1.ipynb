{
 "cells": [
  {
   "cell_type": "code",
   "execution_count": null,
   "id": "3b1e9322",
   "metadata": {},
   "outputs": [],
   "source": []
  },
  {
   "cell_type": "markdown",
   "id": "0b067222",
   "metadata": {},
   "source": [
    "Sure, I'll break down the process into individual cells without defining functions.\n",
    "\n",
    "### Cell 1: Import Libraries\n"
   ]
  },
  {
   "cell_type": "code",
   "execution_count": null,
   "id": "bf71caf2",
   "metadata": {},
   "outputs": [],
   "source": [
    "import pickle\n",
    "from imblearn.over_sampling import SMOTE\n",
    "from xgboost import XGBClassifier\n",
    "from sklearn.model_selection import GridSearchCV, StratifiedKFold\n",
    "from sklearn.metrics import accuracy_score, classification_report, confusion_matrix\n",
    "import seaborn as sns\n",
    "import matplotlib.pyplot as plt\n",
    "import numpy as np\n",
    "import pandas as pd\n",
    "import warnings\n",
    "warnings.filterwarnings('ignore')"
   ]
  },
  {
   "cell_type": "markdown",
   "id": "d1069199",
   "metadata": {},
   "source": [
    "\n",
    "\n",
    "### Cell 2: Load Pickle Files\n"
   ]
  },
  {
   "cell_type": "code",
   "execution_count": null,
   "id": "0a3a1427",
   "metadata": {},
   "outputs": [],
   "source": [
    "# Load the Word2Vec vectorized matrices\n",
    "with open('X_train_w2v.pkl', 'rb') as f:\n",
    "    X_train_w2v = pickle.load(f)\n",
    "with open('X_cv_w2v.pkl', 'rb') as f:\n",
    "    X_cv_w2v = pickle.load(f)\n",
    "with open('X_test_w2v.pkl', 'rb') as f:\n",
    "    X_test_w2v = pickle.load(f)"
   ]
  },
  {
   "cell_type": "markdown",
   "id": "2e0e5551",
   "metadata": {},
   "source": [
    "\n",
    "\n",
    "### Cell 3: Apply SMOTE\n"
   ]
  },
  {
   "cell_type": "code",
   "execution_count": null,
   "id": "a56eb7fa",
   "metadata": {},
   "outputs": [],
   "source": [
    "# Assuming y_train, y_cv, and y_test are already defined\n",
    "smote = SMOTE(random_state=42)\n",
    "\n",
    "X_train_w2v_resampled, y_train_resampled = smote.fit_resample(X_train_w2v, y_train)\n",
    "X_cv_w2v_resampled, y_cv_resampled = smote.fit_resample(X_cv_w2v, y_cv)\n",
    "X_test_w2v_resampled, y_test_resampled = smote.fit_resample(X_test_w2v, y_test)"
   ]
  },
  {
   "cell_type": "markdown",
   "id": "89aad8d8",
   "metadata": {},
   "source": [
    "\n",
    "\n",
    "### Cell 4: Perform Grid Search CV\n"
   ]
  },
  {
   "cell_type": "code",
   "execution_count": null,
   "id": "c668e546",
   "metadata": {},
   "outputs": [],
   "source": [
    "param_grid = {\n",
    "    'n_estimators': [50, 100, 200],\n",
    "    'max_depth': [3, 6, 9],\n",
    "    'learning_rate': [0.01, 0.1, 0.2]\n",
    "}\n",
    "stratified_kfold = StratifiedKFold(n_splits=3, shuffle=True, random_state=42)\n",
    "grid_search = GridSearchCV(estimator=XGBClassifier(use_label_encoder=False, verbosity=0), \n",
    "                           param_grid=param_grid, \n",
    "                           cv=stratified_kfold, \n",
    "                           n_jobs=-1, \n",
    "                           verbose=3, \n",
    "                           scoring='accuracy')\n",
    "grid_search.fit(X_cv_w2v_resampled, y_cv_resampled)\n",
    "best_params = grid_search.best_params_\n",
    "cv_scores = grid_search.cv_results_['mean_test_score']\n",
    "print(\"Best Parameters:\", best_params)"
   ]
  },
  {
   "cell_type": "markdown",
   "id": "c88775bd",
   "metadata": {},
   "source": [
    "\n",
    "\n",
    "### Cell 5: Train Model\n"
   ]
  },
  {
   "cell_type": "code",
   "execution_count": null,
   "id": "4ba81b9b",
   "metadata": {},
   "outputs": [],
   "source": [
    "xgboost = XGBClassifier(n_estimators=best_params['n_estimators'], \n",
    "                        max_depth=best_params['max_depth'], \n",
    "                        learning_rate=best_params['learning_rate'], \n",
    "                        use_label_encoder=False, \n",
    "                        verbosity=0)\n",
    "xgboost.fit(X_train_w2v_resampled, y_train_resampled)\n",
    "print(\"Training completed.\")"
   ]
  },
  {
   "cell_type": "markdown",
   "id": "dd339ab6",
   "metadata": {},
   "source": [
    "\n",
    "\n",
    "### Cell 6: Test and Evaluate Model\n"
   ]
  },
  {
   "cell_type": "code",
   "execution_count": null,
   "id": "b6b1853c",
   "metadata": {},
   "outputs": [],
   "source": [
    "y_pred = xgboost.predict(X_test_w2v_resampled)\n",
    "accuracy = accuracy_score(y_test_resampled, y_pred)\n",
    "cm = confusion_matrix(y_test_resampled, y_pred)\n",
    "report = classification_report(y_test_resampled, y_pred, output_dict=True)\n",
    "print(\"Accuracy:\", accuracy)\n",
    "print(\"Classification Report:\", classification_report(y_test_resampled, y_pred))"
   ]
  },
  {
   "cell_type": "markdown",
   "id": "68144950",
   "metadata": {},
   "source": [
    "\n",
    "\n",
    "### Cell 7: Display Results\n"
   ]
  },
  {
   "cell_type": "code",
   "execution_count": null,
   "id": "ba3602f6",
   "metadata": {},
   "outputs": [],
   "source": [
    "class_labels = np.unique(y_test_resampled)\n",
    "df_cm = pd.DataFrame(cm, index=class_labels, columns=class_labels)\n",
    "sns.heatmap(df_cm, annot=True, fmt=\"d\")\n",
    "plt.title(\"Confusion Matrix - Word2Vec\")\n",
    "plt.xlabel(\"Predicted Label\")\n",
    "plt.ylabel(\"True Label\")\n",
    "plt.show()\n",
    "\n",
    "mse = [1 - x for x in cv_scores]\n",
    "plt.figure(figsize=(8, 8))\n",
    "plt.plot(range(len(cv_scores)), mse, linestyle='dashed', marker='o', markerfacecolor='red', markersize=10)\n",
    "for i, (param, score) in enumerate(zip(range(len(cv_scores)), mse)):\n",
    "    plt.annotate(f'({param}, {score:.3f})', (i, score), textcoords='data')\n",
    "plt.title('CV Error vs Hyperparameter Values')\n",
    "plt.xlabel('Hyperparameter Index')\n",
    "plt.ylabel('CV Error')\n",
    "plt.show()"
   ]
  },
  {
   "cell_type": "markdown",
   "id": "4c0a8ccd",
   "metadata": {},
   "source": [
    "\n",
    "\n",
    "This should cover the entire process step-by-step in individual cells, from importing libraries to displaying results."
   ]
  }
 ],
 "metadata": {
  "kernelspec": {
   "display_name": "Python 3 (ipykernel)",
   "language": "python",
   "name": "python3"
  },
  "language_info": {
   "codemirror_mode": {
    "name": "ipython",
    "version": 3
   },
   "file_extension": ".py",
   "mimetype": "text/x-python",
   "name": "python",
   "nbconvert_exporter": "python",
   "pygments_lexer": "ipython3",
   "version": "3.9.7"
  }
 },
 "nbformat": 4,
 "nbformat_minor": 5
}
